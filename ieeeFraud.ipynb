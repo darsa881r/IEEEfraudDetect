{
 "cells": [
  {
   "cell_type": "markdown",
   "source": [
    "# IEEE Fraud Detection"
   ],
   "metadata": {}
  },
  {
   "cell_type": "code",
   "execution_count": null,
   "source": [
    "# Reducing memory size by changing the data types.\r\n",
    "# https://www.kaggle.com/mjbahmani/reducing-memory-size-for-ieee\r\n",
    "# https://www.kaggle.com/arjanso/reducing-dataframe-memory-size-by-65\r\n",
    "\r\n",
    "import os\r\n",
    "import gc\r\n",
    "gc.enable()\r\n",
    "import time\r\n"
   ],
   "outputs": [],
   "metadata": {}
  },
  {
   "cell_type": "code",
   "execution_count": null,
   "source": [
    "# %%time\r\n",
    "# import Dataset to play with it\r\n",
    "train_identity= pd.read_csv(os.getcwd() + '\\\\Data\\\\train_identity.csv', index_col='TransactionID')\r\n",
    "train_transaction= pd.read_csv(os.getcwd() + '\\\\Data\\\\train_transaction.csv', index_col='TransactionID')\r\n",
    "test_identity= pd.read_csv(os.getcwd() + '\\\\Data\\\\test_identity.csv', index_col='TransactionID')\r\n",
    "test_transaction = pd.read_csv(os.getcwd() + '\\\\Data\\\\test_transaction.csv', index_col='TransactionID')\r\n",
    "print (\"Done!\")"
   ],
   "outputs": [],
   "metadata": {}
  },
  {
   "cell_type": "code",
   "execution_count": null,
   "source": [
    "print('Shape of Data:')\r\n",
    "print(train_transaction.shape)\r\n",
    "print(test_transaction.shape)\r\n",
    "print(train_identity.shape)\r\n",
    "print(test_identity.shape)"
   ],
   "outputs": [],
   "metadata": {}
  },
  {
   "cell_type": "code",
   "execution_count": null,
   "source": [
    "# Create train & test dataset\r\n",
    "train = train_transaction.merge(train_identity, how='left', left_index=True, right_index=True)\r\n",
    "test = test_transaction.merge(test_identity, how='left', left_index=True, right_index=True)\r\n",
    "\r\n",
    "del train_identity,train_transaction,test_identity, test_transaction"
   ],
   "outputs": [],
   "metadata": {}
  },
  {
   "cell_type": "code",
   "execution_count": null,
   "source": [
    "train.info()"
   ],
   "outputs": [],
   "metadata": {}
  },
  {
   "cell_type": "code",
   "execution_count": null,
   "source": [
    "test.info()"
   ],
   "outputs": [],
   "metadata": {}
  },
  {
   "cell_type": "markdown",
   "source": [
    "## IEEE Reducing Memory Size"
   ],
   "metadata": {}
  },
  {
   "cell_type": "code",
   "execution_count": null,
   "source": [
    "def reduce_mem_usage(df):\r\n",
    "    start_mem_usg = df.memory_usage().sum() / 1024**2 \r\n",
    "    print(\"Memory usage of properties dataframe is :\",start_mem_usg,\" MB\")\r\n",
    "    NAlist = [] # Keeps track of columns that have missing values filled in. \r\n",
    "    for col in df.columns:\r\n",
    "        if df[col].dtype != object:  # Exclude strings            \r\n",
    "            # Print current column type\r\n",
    "            print(\"******************************\")\r\n",
    "            print(\"Column: \",col)\r\n",
    "            print(\"dtype before: \",df[col].dtype)            \r\n",
    "            # make variables for Int, max and min\r\n",
    "            IsInt = False\r\n",
    "            mx = df[col].max()\r\n",
    "            mn = df[col].min()\r\n",
    "            print(\"min for this col: \",mn)\r\n",
    "            print(\"max for this col: \",mx)\r\n",
    "            # Integer does not support NA, therefore, NA needs to be filled\r\n",
    "            if not np.isfinite(df[col]).all(): \r\n",
    "                NAlist.append(col)\r\n",
    "                df[col].fillna(mn-1,inplace=True)  \r\n",
    "                   \r\n",
    "            # test if column can be converted to an integer\r\n",
    "            asint = df[col].fillna(0).astype(np.int64)\r\n",
    "            result = (df[col] - asint)\r\n",
    "            result = result.sum()\r\n",
    "            if result > -0.01 and result < 0.01:\r\n",
    "                IsInt = True            \r\n",
    "            # Make Integer/unsigned Integer datatypes\r\n",
    "            if IsInt:\r\n",
    "                if mn >= 0:\r\n",
    "                    if mx < 255:\r\n",
    "                        df[col] = df[col].astype(np.uint8)\r\n",
    "                    elif mx < 65535:\r\n",
    "                        df[col] = df[col].astype(np.uint16)\r\n",
    "                    elif mx < 4294967295:\r\n",
    "                        df[col] = df[col].astype(np.uint32)\r\n",
    "                    else:\r\n",
    "                        df[col] = df[col].astype(np.uint64)\r\n",
    "                else:\r\n",
    "                    if mn > np.iinfo(np.int8).min and mx < np.iinfo(np.int8).max:\r\n",
    "                        df[col] = df[col].astype(np.int8)\r\n",
    "                    elif mn > np.iinfo(np.int16).min and mx < np.iinfo(np.int16).max:\r\n",
    "                        df[col] = df[col].astype(np.int16)\r\n",
    "                    elif mn > np.iinfo(np.int32).min and mx < np.iinfo(np.int32).max:\r\n",
    "                        df[col] = df[col].astype(np.int32)\r\n",
    "                    elif mn > np.iinfo(np.int64).min and mx < np.iinfo(np.int64).max:\r\n",
    "                        df[col] = df[col].astype(np.int64)    \r\n",
    "            # Make float datatypes 32 bit\r\n",
    "            else:\r\n",
    "                df[col] = df[col].astype(np.float32)\r\n",
    "            \r\n",
    "            # Print new column type\r\n",
    "            print(\"dtype after: \",df[col].dtype)\r\n",
    "            print(\"******************************\")\r\n",
    "    # Print final result\r\n",
    "    print(\"___MEMORY USAGE AFTER COMPLETION:___\")\r\n",
    "    mem_usg = df.memory_usage().sum() / 1024**2 \r\n",
    "    print(\"Memory usage is: \",mem_usg,\" MB\")\r\n",
    "    print(\"This is \",100*mem_usg/start_mem_usg,\"% of the initial size\")\r\n",
    "    return df, NAlist"
   ],
   "outputs": [],
   "metadata": {}
  },
  {
   "cell_type": "code",
   "execution_count": null,
   "source": [
    "train, NAlist = reduce_mem_usage(train)\r\n",
    "print(\"_________________\")\r\n",
    "print(\"\")\r\n",
    "print(\"Warning: the following columns have missing values filled with 'df['column_name'].min() -1': \")\r\n",
    "print(\"_________________\")\r\n",
    "print(\"\")\r\n",
    "print(NAlist)"
   ],
   "outputs": [],
   "metadata": {}
  },
  {
   "cell_type": "code",
   "execution_count": null,
   "source": [
    "test, NAlist = reduce_mem_usage(test)\r\n",
    "print(\"_________________\")\r\n",
    "print(\"\")\r\n",
    "print(\"Warning: the following columns have missing values filled with 'df['column_name'].min() -1': \")\r\n",
    "print(\"_________________\")\r\n",
    "print(\"\")\r\n",
    "print(NAlist)"
   ],
   "outputs": [],
   "metadata": {}
  },
  {
   "cell_type": "code",
   "execution_count": null,
   "source": [
    "train.info()"
   ],
   "outputs": [],
   "metadata": {}
  },
  {
   "cell_type": "code",
   "execution_count": null,
   "source": [
    "test.info()"
   ],
   "outputs": [],
   "metadata": {}
  },
  {
   "cell_type": "markdown",
   "source": [
    "## Saving reduced Dataset"
   ],
   "metadata": {}
  },
  {
   "cell_type": "code",
   "execution_count": null,
   "source": [
    "train.to_csv('train.csv', index=False)\r\n",
    "test.to_csv('test.csv', index=False)\r\n",
    "\r\n",
    "del train, test, NAlist"
   ],
   "outputs": [],
   "metadata": {}
  },
  {
   "cell_type": "markdown",
   "source": [
    "# Exploratory Data Analysis"
   ],
   "metadata": {}
  },
  {
   "cell_type": "code",
   "execution_count": 1,
   "source": [
    "import numpy as np \r\n",
    "import pandas as pd \r\n",
    "import matplotlib.pyplot as plt\r\n",
    "import seaborn as sns\r\n",
    "import warnings\r\n",
    "warnings.simplefilter(\"ignore\")"
   ],
   "outputs": [],
   "metadata": {}
  },
  {
   "cell_type": "code",
   "execution_count": 2,
   "source": [
    "train_data = pd.read_csv(os.getcwd() + '\\\\Data\\\\train.csv')\r\n",
    "test_data = pd.read_csv(os.getcwd() + '\\\\Data\\\\test.csv')"
   ],
   "outputs": [],
   "metadata": {}
  },
  {
   "cell_type": "code",
   "execution_count": 3,
   "source": [
    "train_data.info()\r\n",
    "test_data.info()"
   ],
   "outputs": [
    {
     "output_type": "stream",
     "name": "stdout",
     "text": [
      "<class 'pandas.core.frame.DataFrame'>\n",
      "RangeIndex: 590540 entries, 0 to 590539\n",
      "Columns: 433 entries, isFraud to DeviceInfo\n",
      "dtypes: float64(80), int64(322), object(31)\n",
      "memory usage: 1.9+ GB\n",
      "<class 'pandas.core.frame.DataFrame'>\n",
      "RangeIndex: 506691 entries, 0 to 506690\n",
      "Columns: 432 entries, TransactionDT to DeviceInfo\n",
      "dtypes: float64(80), int64(321), object(31)\n",
      "memory usage: 1.6+ GB\n"
     ]
    }
   ],
   "metadata": {}
  },
  {
   "cell_type": "code",
   "execution_count": 24,
   "source": [
    "print(\"The class proportion in Training Data:\")\r\n",
    "print(\"Yes : No =  {} : {}\".format(round(sum(train_data['isFraud']==1)/train_data['isFraud'].shape[0],3),round(sum(train_data['isFraud']==0)/train_data['isFraud'].shape[0],3)))\r\n",
    "print(\"Highly Imbalanced data set\")\r\n"
   ],
   "outputs": [
    {
     "output_type": "stream",
     "name": "stdout",
     "text": [
      "The class proportion in Training Data:\n",
      "Yes : No =  0.035 : 0.965\n",
      "Highly Imbalanced data set\n"
     ]
    }
   ],
   "metadata": {}
  },
  {
   "cell_type": "code",
   "execution_count": null,
   "source": [],
   "outputs": [],
   "metadata": {}
  },
  {
   "cell_type": "code",
   "execution_count": null,
   "source": [],
   "outputs": [],
   "metadata": {}
  },
  {
   "cell_type": "code",
   "execution_count": null,
   "source": [],
   "outputs": [],
   "metadata": {}
  },
  {
   "cell_type": "code",
   "execution_count": null,
   "source": [],
   "outputs": [],
   "metadata": {}
  }
 ],
 "metadata": {
  "orig_nbformat": 4,
  "language_info": {
   "name": "python",
   "version": "3.8.11",
   "mimetype": "text/x-python",
   "codemirror_mode": {
    "name": "ipython",
    "version": 3
   },
   "pygments_lexer": "ipython3",
   "nbconvert_exporter": "python",
   "file_extension": ".py"
  },
  "kernelspec": {
   "name": "python3",
   "display_name": "Python 3.8.11 64-bit ('mlpy38': conda)"
  },
  "interpreter": {
   "hash": "ea3b6e886dea28cfe3153796296f9987717468fc086073cf75a8c3f6142730b7"
  }
 },
 "nbformat": 4,
 "nbformat_minor": 2
}