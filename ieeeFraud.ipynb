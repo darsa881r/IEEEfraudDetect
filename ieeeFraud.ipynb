{
 "cells": [
  {
   "cell_type": "markdown",
   "source": [
    "## IEEE Fraud Detection"
   ],
   "metadata": {}
  },
  {
   "cell_type": "code",
   "execution_count": 1,
   "source": [
    "import numpy as np \r\n",
    "import pandas as pd \r\n",
    "import matplotlib.pyplot as plt\r\n",
    "import seaborn as sns\r\n",
    "import warnings\r\n",
    "warnings.simplefilter(\"ignore\")\r\n"
   ],
   "outputs": [
    {
     "output_type": "stream",
     "name": "stdout",
     "text": [
      "Hello\n"
     ]
    }
   ],
   "metadata": {}
  },
  {
   "cell_type": "code",
   "execution_count": null,
   "source": [
    "# Reducing memory size by changing the data types.\r\n",
    "# https://www.kaggle.com/mjbahmani/reducing-memory-size-for-ieee\r\n",
    "# https://www.kaggle.com/arjanso/reducing-dataframe-memory-size-by-65\r\n",
    "\r\n"
   ],
   "outputs": [],
   "metadata": {}
  },
  {
   "cell_type": "code",
   "execution_count": null,
   "source": [],
   "outputs": [],
   "metadata": {}
  }
 ],
 "metadata": {
  "orig_nbformat": 4,
  "language_info": {
   "name": "python",
   "version": "3.8.11",
   "mimetype": "text/x-python",
   "codemirror_mode": {
    "name": "ipython",
    "version": 3
   },
   "pygments_lexer": "ipython3",
   "nbconvert_exporter": "python",
   "file_extension": ".py"
  },
  "kernelspec": {
   "name": "python3",
   "display_name": "Python 3.8.11 64-bit ('mlpy38': conda)"
  },
  "interpreter": {
   "hash": "ea3b6e886dea28cfe3153796296f9987717468fc086073cf75a8c3f6142730b7"
  }
 },
 "nbformat": 4,
 "nbformat_minor": 2
}