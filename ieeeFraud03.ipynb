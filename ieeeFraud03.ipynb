{
 "cells": [
  {
   "cell_type": "markdown",
   "source": [
    "# IEEE Fraud Detect: part 03:\r\n",
    "## Trying out Machine learning models"
   ],
   "metadata": {}
  },
  {
   "cell_type": "code",
   "execution_count": 50,
   "source": [
    "import os\r\n",
    "import gc\r\n",
    "gc.enable()\r\n",
    "import time\r\n",
    "\r\n",
    "import numpy as np \r\n",
    "import pandas as pd \r\n",
    "\r\n",
    "import matplotlib.pyplot as plt\r\n",
    "import seaborn as sns\r\n",
    "import warnings\r\n",
    "warnings.simplefilter(\"ignore\")"
   ],
   "outputs": [],
   "metadata": {}
  },
  {
   "cell_type": "code",
   "execution_count": 51,
   "source": [
    "# Loading the normalized reduced dataset for training\r\n",
    "train_data = pd.read_parquet(os.getcwd() + '\\\\pca_num_train.gzip')\r\n",
    "target = pd.read_parquet(os.getcwd() + '\\\\target_var.gzip')"
   ],
   "outputs": [],
   "metadata": {}
  },
  {
   "cell_type": "code",
   "execution_count": 52,
   "source": [
    "# Only load for prediction or later for manipulaiton:\r\n",
    "# test_data = pd.read_parquet(os.getcwd() + '\\\\Data\\\\test.gzip')"
   ],
   "outputs": [],
   "metadata": {}
  },
  {
   "cell_type": "markdown",
   "source": [
    "# Testing out Random Forest Classification: on imbalanced dataset\r\n",
    "\r\n",
    "Sources:\r\n",
    "- https://github.com/WillKoehrsen/Machine-Learning-Projects/blob/master/Random%20Forest%20Tutorial.ipynb"
   ],
   "metadata": {}
  },
  {
   "cell_type": "code",
   "execution_count": 53,
   "source": [
    "# Split into 70% training and 30% validation set. Taking a bit more in validation set as data is highly imbalanced.\r\n",
    "from sklearn.model_selection import train_test_split\r\n",
    "\r\n",
    "X, X_val, y, y_val = train_test_split(train_data, target, \r\n",
    "                                        test_size = 0.3, \r\n",
    "                                        random_state = 10)"
   ],
   "outputs": [],
   "metadata": {}
  },
  {
   "cell_type": "code",
   "execution_count": 54,
   "source": [
    "from sklearn.ensemble import RandomForestClassifier\r\n",
    "\r\n",
    "RSEED = 100 # defining random seed for reproducibility\r\n",
    "\r\n",
    "# Create the model with 100 trees\r\n",
    "model = RandomForestClassifier(n_estimators=10, \r\n",
    "                               random_state=RSEED, \r\n",
    "                               max_features = 'auto',\r\n",
    "                               verbose = 1) # n_jobs=-1 # means using all processors for parallel use\r\n",
    "\r\n",
    "# Fit on training data\r\n",
    "model.fit(X.values, y.values)"
   ],
   "outputs": [
    {
     "output_type": "stream",
     "name": "stderr",
     "text": [
      "[Parallel(n_jobs=1)]: Using backend SequentialBackend with 1 concurrent workers.\n",
      "[Parallel(n_jobs=1)]: Done  10 out of  10 | elapsed:   36.9s finished\n"
     ]
    },
    {
     "output_type": "execute_result",
     "data": {
      "text/plain": [
       "RandomForestClassifier(n_estimators=10, random_state=100, verbose=1)"
      ]
     },
     "metadata": {},
     "execution_count": 54
    }
   ],
   "metadata": {}
  },
  {
   "cell_type": "code",
   "execution_count": 55,
   "source": [
    "# We can see how many nodes there are for each tree on average and the maximum depth of each tree. There were 10 trees in the forest.\r\n",
    "\r\n",
    "n_nodes = []\r\n",
    "max_depths = []\r\n",
    "\r\n",
    "for ind_tree in model.estimators_:\r\n",
    "    n_nodes.append(ind_tree.tree_.node_count)\r\n",
    "    max_depths.append(ind_tree.tree_.max_depth)\r\n",
    "    \r\n",
    "print(f'Average number of nodes {int(np.mean(n_nodes))}')\r\n",
    "print(f'Average maximum depth {int(np.mean(max_depths))}')"
   ],
   "outputs": [
    {
     "output_type": "stream",
     "name": "stdout",
     "text": [
      "Average number of nodes 21247\n",
      "Average maximum depth 61\n"
     ]
    }
   ],
   "metadata": {}
  },
  {
   "cell_type": "code",
   "execution_count": 56,
   "source": [
    "# Random forest results\r\n",
    "\r\n",
    "train_rf_predictions = model.predict(X.values)\r\n",
    "train_rf_probs = model.predict_proba(X.values)[:, 1]\r\n",
    "\r\n",
    "rf_predictions = model.predict(X_val.values)\r\n",
    "rf_probs = model.predict_proba(X_val.values)[:, 1]"
   ],
   "outputs": [
    {
     "output_type": "stream",
     "name": "stderr",
     "text": [
      "[Parallel(n_jobs=1)]: Using backend SequentialBackend with 1 concurrent workers.\n",
      "[Parallel(n_jobs=1)]: Done  10 out of  10 | elapsed:    1.2s finished\n",
      "[Parallel(n_jobs=1)]: Using backend SequentialBackend with 1 concurrent workers.\n",
      "[Parallel(n_jobs=1)]: Done  10 out of  10 | elapsed:    1.1s finished\n",
      "[Parallel(n_jobs=1)]: Using backend SequentialBackend with 1 concurrent workers.\n",
      "[Parallel(n_jobs=1)]: Done  10 out of  10 | elapsed:    0.4s finished\n",
      "[Parallel(n_jobs=1)]: Using backend SequentialBackend with 1 concurrent workers.\n",
      "[Parallel(n_jobs=1)]: Done  10 out of  10 | elapsed:    0.4s finished\n"
     ]
    }
   ],
   "metadata": {}
  },
  {
   "cell_type": "code",
   "execution_count": 57,
   "source": [
    "\r\n",
    "def evaluate_model(predictions, probs, train_predictions, train_probs, test_labels, train_labels):\r\n",
    "    \"\"\"Compare machine learning model to baseline performance.\r\n",
    "    Computes statistics and shows ROC curve.\"\"\"\r\n",
    "    from sklearn.metrics import precision_score, recall_score, roc_auc_score, roc_curve\r\n",
    "    baseline = {}\r\n",
    "    \r\n",
    "    baseline['recall'] = recall_score(test_labels, [1 for _ in range(len(test_labels))])\r\n",
    "    baseline['precision'] = precision_score(test_labels, [1 for _ in range(len(test_labels))])\r\n",
    "    baseline['roc'] = 0.5\r\n",
    "    \r\n",
    "    results = {}\r\n",
    "    \r\n",
    "    results['recall'] = recall_score(test_labels, predictions)\r\n",
    "    results['precision'] = precision_score(test_labels, predictions)\r\n",
    "    results['roc'] = roc_auc_score(test_labels, probs)\r\n",
    "    \r\n",
    "    train_results = {}\r\n",
    "    train_results['recall'] = recall_score(train_labels, train_predictions)\r\n",
    "    train_results['precision'] = precision_score(train_labels, train_predictions)\r\n",
    "    train_results['roc'] = roc_auc_score(train_labels, train_probs)\r\n",
    "    \r\n",
    "    for metric in ['recall', 'precision', 'roc']:\r\n",
    "        print(f'{metric.capitalize()} Baseline: {round(baseline[metric], 2)} Test: {round(results[metric], 2)} Train: {round(train_results[metric], 2)}')\r\n",
    "    \r\n",
    "    # Calculate false positive rates and true positive rates\r\n",
    "    base_fpr, base_tpr, _ = roc_curve(test_labels, [1 for _ in range(len(test_labels))])\r\n",
    "    model_fpr, model_tpr, _ = roc_curve(test_labels, probs)\r\n",
    "\r\n",
    "    plt.figure(figsize = (8, 6))\r\n",
    "    plt.rcParams['font.size'] = 16\r\n",
    "    \r\n",
    "    # Plot both curves\r\n",
    "    plt.plot(base_fpr, base_tpr, 'b', label = 'baseline')\r\n",
    "    plt.plot(model_fpr, model_tpr, 'r', label = 'model')\r\n",
    "    plt.legend();\r\n",
    "    plt.xlabel('False Positive Rate'); plt.ylabel('True Positive Rate'); plt.title('ROC Curves');"
   ],
   "outputs": [],
   "metadata": {}
  },
  {
   "cell_type": "code",
   "execution_count": 58,
   "source": [
    "evaluate_model(rf_predictions, rf_probs, train_rf_predictions, train_rf_probs, y_val, y)"
   ],
   "outputs": [
    {
     "output_type": "stream",
     "name": "stdout",
     "text": [
      "Recall Baseline: 1.0 Test: 0.36 Train: 0.86\n",
      "Precision Baseline: 0.04 Test: 0.84 Train: 1.0\n",
      "Roc Baseline: 0.5 Test: 0.84 Train: 1.0\n"
     ]
    },
    {
     "output_type": "display_data",
     "data": {
      "image/png": "[encoded data removed]",
      "text/plain": [
       "<Figure size 576x432 with 1 Axes>"
      ]
     },
     "metadata": {
      "needs_background": "light"
     }
    }
   ],
   "metadata": {}
  },
  {
   "cell_type": "code",
   "execution_count": 59,
   "source": [
    "from sklearn.metrics import confusion_matrix\r\n",
    "import itertools\r\n",
    "\r\n",
    "def plot_confusion_matrix(cm, classes,\r\n",
    "                          normalize=False,\r\n",
    "                          title='Confusion matrix',\r\n",
    "                          cmap=plt.cm.Oranges):\r\n",
    "    \"\"\"\r\n",
    "    This function prints and plots the confusion matrix.\r\n",
    "    Normalization can be applied by setting `normalize=True`.\r\n",
    "    Source: http://scikit-learn.org/stable/auto_examples/model_selection/plot_confusion_matrix.html\r\n",
    "    \"\"\"\r\n",
    "    if normalize:\r\n",
    "        cm = cm.astype('float') / cm.sum(axis=1)[:, np.newaxis]\r\n",
    "        print(\"Normalized confusion matrix\")\r\n",
    "    else:\r\n",
    "        print('Confusion matrix, without normalization')\r\n",
    "\r\n",
    "    print(cm)\r\n",
    "\r\n",
    "    plt.figure(figsize = (10, 10))\r\n",
    "    plt.imshow(cm, interpolation='nearest', cmap=cmap)\r\n",
    "    plt.title(title, size = 24)\r\n",
    "    plt.colorbar(aspect=4)\r\n",
    "    tick_marks = np.arange(len(classes))\r\n",
    "    plt.xticks(tick_marks, classes, rotation=45, size = 14)\r\n",
    "    plt.yticks(tick_marks, classes, size = 14)\r\n",
    "\r\n",
    "    fmt = '.2f' if normalize else 'd'\r\n",
    "    thresh = cm.max() / 2.\r\n",
    "    \r\n",
    "    # Labeling the plot\r\n",
    "    for i, j in itertools.product(range(cm.shape[0]), range(cm.shape[1])):\r\n",
    "        plt.text(j, i, format(cm[i, j], fmt), fontsize = 20,\r\n",
    "                 horizontalalignment=\"center\",\r\n",
    "                 color=\"white\" if cm[i, j] > thresh else \"black\")\r\n",
    "        \r\n",
    "    plt.grid(None)\r\n",
    "    plt.tight_layout()\r\n",
    "    plt.ylabel('True label', size = 18)\r\n",
    "    plt.xlabel('Predicted label', size = 18)"
   ],
   "outputs": [],
   "metadata": {}
  },
  {
   "cell_type": "code",
   "execution_count": 60,
   "source": [
    "# confusion matrix for Validation set\r\n",
    "cm = confusion_matrix(y_val, rf_predictions)\r\n",
    "plot_confusion_matrix(cm, classes = ['0', '1'],\r\n",
    "                      title = 'Confusion Matrix')"
   ],
   "outputs": [
    {
     "output_type": "stream",
     "name": "stdout",
     "text": [
      "Confusion matrix, without normalization\n",
      "[[170439    423]\n",
      " [  4003   2297]]\n"
     ]
    },
    {
     "output_type": "display_data",
     "data": {
      "image/png": "[encoded data removed]",
      "text/plain": [
       "<Figure size 720x720 with 2 Axes>"
      ]
     },
     "metadata": {
      "needs_background": "light"
     }
    }
   ],
   "metadata": {}
  },
  {
   "cell_type": "code",
   "execution_count": 68,
   "source": [
    "features = list(X.columns)\r\n",
    "fi_model = pd.DataFrame({'feature': features,\r\n",
    "                   'importance': model.feature_importances_}).\\\r\n",
    "                    sort_values('importance', ascending = False)\r\n",
    "fi_model.head(10)"
   ],
   "outputs": [
    {
     "output_type": "execute_result",
     "data": {
      "text/html": [
       "<div>\n",
       "<style scoped>\n",
       "    .dataframe tbody tr th:only-of-type {\n",
       "        vertical-align: middle;\n",
       "    }\n",
       "\n",
       "    .dataframe tbody tr th {\n",
       "        vertical-align: top;\n",
       "    }\n",
       "\n",
       "    .dataframe thead th {\n",
       "        text-align: right;\n",
       "    }\n",
       "</style>\n",
       "<table border=\"1\" class=\"dataframe\">\n",
       "  <thead>\n",
       "    <tr style=\"text-align: right;\">\n",
       "      <th></th>\n",
       "      <th>feature</th>\n",
       "      <th>importance</th>\n",
       "    </tr>\n",
       "  </thead>\n",
       "  <tbody>\n",
       "    <tr>\n",
       "      <th>8</th>\n",
       "      <td>C_num_pca1</td>\n",
       "      <td>0.092624</td>\n",
       "    </tr>\n",
       "    <tr>\n",
       "      <th>9</th>\n",
       "      <td>C_num_pca2</td>\n",
       "      <td>0.076902</td>\n",
       "    </tr>\n",
       "    <tr>\n",
       "      <th>7</th>\n",
       "      <td>C_num_pca0</td>\n",
       "      <td>0.041788</td>\n",
       "    </tr>\n",
       "    <tr>\n",
       "      <th>0</th>\n",
       "      <td>rem_num_pca0</td>\n",
       "      <td>0.038579</td>\n",
       "    </tr>\n",
       "    <tr>\n",
       "      <th>1</th>\n",
       "      <td>rem_num_pca1</td>\n",
       "      <td>0.035152</td>\n",
       "    </tr>\n",
       "    <tr>\n",
       "      <th>2</th>\n",
       "      <td>rem_num_pca2</td>\n",
       "      <td>0.033303</td>\n",
       "    </tr>\n",
       "    <tr>\n",
       "      <th>11</th>\n",
       "      <td>D_num_pca1</td>\n",
       "      <td>0.028075</td>\n",
       "    </tr>\n",
       "    <tr>\n",
       "      <th>14</th>\n",
       "      <td>D_num_pca4</td>\n",
       "      <td>0.026198</td>\n",
       "    </tr>\n",
       "    <tr>\n",
       "      <th>33</th>\n",
       "      <td>V_num_pca12</td>\n",
       "      <td>0.024407</td>\n",
       "    </tr>\n",
       "    <tr>\n",
       "      <th>30</th>\n",
       "      <td>V_num_pca9</td>\n",
       "      <td>0.022971</td>\n",
       "    </tr>\n",
       "  </tbody>\n",
       "</table>\n",
       "</div>"
      ],
      "text/plain": [
       "         feature  importance\n",
       "8     C_num_pca1    0.092624\n",
       "9     C_num_pca2    0.076902\n",
       "7     C_num_pca0    0.041788\n",
       "0   rem_num_pca0    0.038579\n",
       "1   rem_num_pca1    0.035152\n",
       "2   rem_num_pca2    0.033303\n",
       "11    D_num_pca1    0.028075\n",
       "14    D_num_pca4    0.026198\n",
       "33   V_num_pca12    0.024407\n",
       "30    V_num_pca9    0.022971"
      ]
     },
     "metadata": {},
     "execution_count": 68
    }
   ],
   "metadata": {}
  }
 ],
 "metadata": {
  "orig_nbformat": 4,
  "language_info": {
   "name": "python",
   "version": "3.8.11",
   "mimetype": "text/x-python",
   "codemirror_mode": {
    "name": "ipython",
    "version": 3
   },
   "pygments_lexer": "ipython3",
   "nbconvert_exporter": "python",
   "file_extension": ".py"
  },
  "kernelspec": {
   "name": "python3",
   "display_name": "Python 3.8.11 64-bit ('mlpy38': conda)"
  },
  "interpreter": {
   "hash": "ea3b6e886dea28cfe3153796296f9987717468fc086073cf75a8c3f6142730b7"
  }
 },
 "nbformat": 4,
 "nbformat_minor": 2
}